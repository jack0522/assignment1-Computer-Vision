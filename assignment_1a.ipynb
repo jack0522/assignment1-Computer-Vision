{
 "cells": [
  {
   "cell_type": "code",
   "execution_count": null,
   "metadata": {},
   "outputs": [],
   "source": [
    "import numpy as np\n",
    "\n",
    "def solve_linear_equation(A, b):\n",
    "   # enter your code here, and remove the following line (30%)\n",
    "   return 0\n",
    "\n",
    "def flag_to_message(flag):\n",
    "   if flag == 1:\n",
    "     print('The linear system Ax=b has only one solution.')\n",
    "   elif flag == 0:\n",
    "     print('The linear system Ax=b has infinitely many solutions.')\n",
    "   elif flag == -1:\n",
    "     print('The linear system Ax=b has no solutions.')\n",
    "   else:\n",
    "     print('Unknown flag!')\n",
    "\n",
    "def get_input_data(input_id):\n",
    "   if input_id == 'case1': \n",
    "     A = np.array([[3, 2, -1], [6, -1, 3], [1, 10, -2]])\n",
    "     b = np.array([[-7], [-4], [2]])\n",
    "   elif input_id == 'case2':\n",
    "     A = np.array([[4, -1, 3], [21, -4, 18], [-9, 1, -9]])\n",
    "     b = np.array([[5], [7], [-8]])\n",
    "   elif input_id == 'case3':\n",
    "     A = np.array([[7, -4, 1], [3, 2, -1], [5, 12, -5]])\n",
    "     b = np.array([[-15], [-5], [-5]])\n",
    "   return A, b\n",
    "\n",
    "if __name__ == '__main__':\n",
    "   for case in ['case1', 'case2', 'case3']:\n",
    "     A, b = get_input_data(case)\n",
    "     print(case)\n",
    "     print('A =', A, 'b =', b.T)\n",
    "     flag = solve_linear_equation(A, b)\n",
    "     flag_to_message(flag)\n",
    "     if flag == 1:\n",
    "       print('The solution is ', np.linalg.solve(A, b))\n",
    "     print()\n"
   ]
  },
  {
   "cell_type": "code",
   "execution_count": null,
   "metadata": {},
   "outputs": [],
   "source": [
    "# Can we use np.linalg.solve() to determine whether 𝐀𝐱=𝐛 is consistent? Explain the reason for your answer. (5%)\n",
    "# Write down your answer here."
   ]
  },
  {
   "cell_type": "code",
   "execution_count": null,
   "metadata": {},
   "outputs": [],
   "source": [
    "# Given matrix 𝐀 of dimension (m,n). If rank(𝐀)=𝑛, can we infer that 𝐀𝐱=𝐛 is consistent? Explain the reason for your answer. (5%)\n",
    "# Write down your answer here."
   ]
  }
 ],
 "metadata": {
  "kernelspec": {
   "display_name": "Python 3",
   "language": "python",
   "name": "python3"
  },
  "language_info": {
   "codemirror_mode": {
    "name": "ipython",
    "version": 3
   },
   "file_extension": ".py",
   "mimetype": "text/x-python",
   "name": "python",
   "nbconvert_exporter": "python",
   "pygments_lexer": "ipython3",
   "version": "3.6.7"
  }
 },
 "nbformat": 4,
 "nbformat_minor": 2
}
